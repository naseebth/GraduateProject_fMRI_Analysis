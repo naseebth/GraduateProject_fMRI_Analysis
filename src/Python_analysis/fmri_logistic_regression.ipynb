{
 "cells": [
  {
   "cell_type": "code",
   "execution_count": 43,
   "metadata": {},
   "outputs": [],
   "source": [
    "import pandas as pd\n",
    "import numpy as np"
   ]
  },
  {
   "cell_type": "code",
   "execution_count": 41,
   "metadata": {},
   "outputs": [
    {
     "data": {
      "text/html": [
       "<div>\n",
       "<style scoped>\n",
       "    .dataframe tbody tr th:only-of-type {\n",
       "        vertical-align: middle;\n",
       "    }\n",
       "\n",
       "    .dataframe tbody tr th {\n",
       "        vertical-align: top;\n",
       "    }\n",
       "\n",
       "    .dataframe thead th {\n",
       "        text-align: right;\n",
       "    }\n",
       "</style>\n",
       "<table border=\"1\" class=\"dataframe\">\n",
       "  <thead>\n",
       "    <tr style=\"text-align: right;\">\n",
       "      <th></th>\n",
       "      <th>41473</th>\n",
       "      <th>64697</th>\n",
       "      <th>91906</th>\n",
       "      <th>10222</th>\n",
       "      <th>7799</th>\n",
       "      <th>46736</th>\n",
       "      <th>23913</th>\n",
       "      <th>62659</th>\n",
       "      <th>34306</th>\n",
       "      <th>3778</th>\n",
       "      <th>...</th>\n",
       "      <th>12040</th>\n",
       "      <th>14615</th>\n",
       "      <th>58386</th>\n",
       "      <th>83744</th>\n",
       "      <th>68616</th>\n",
       "      <th>9263</th>\n",
       "      <th>8890</th>\n",
       "      <th>40924</th>\n",
       "      <th>20174</th>\n",
       "      <th>77252</th>\n",
       "    </tr>\n",
       "  </thead>\n",
       "  <tbody>\n",
       "    <tr>\n",
       "      <th>0</th>\n",
       "      <td>3.39970</td>\n",
       "      <td>-1.24370</td>\n",
       "      <td>-1.1416</td>\n",
       "      <td>1.02480</td>\n",
       "      <td>2.52490</td>\n",
       "      <td>-1.7598</td>\n",
       "      <td>0.92899</td>\n",
       "      <td>-2.2413</td>\n",
       "      <td>1.52230</td>\n",
       "      <td>-1.423600</td>\n",
       "      <td>...</td>\n",
       "      <td>5.32370</td>\n",
       "      <td>2.31570</td>\n",
       "      <td>3.8395</td>\n",
       "      <td>3.861800</td>\n",
       "      <td>-0.96804</td>\n",
       "      <td>3.79090</td>\n",
       "      <td>8.9279</td>\n",
       "      <td>1.60750</td>\n",
       "      <td>0.57323</td>\n",
       "      <td>0.90678</td>\n",
       "    </tr>\n",
       "    <tr>\n",
       "      <th>1</th>\n",
       "      <td>-1.45120</td>\n",
       "      <td>-3.32370</td>\n",
       "      <td>1.6569</td>\n",
       "      <td>2.17590</td>\n",
       "      <td>0.91046</td>\n",
       "      <td>-2.2282</td>\n",
       "      <td>2.20200</td>\n",
       "      <td>3.0456</td>\n",
       "      <td>-0.13857</td>\n",
       "      <td>-0.007663</td>\n",
       "      <td>...</td>\n",
       "      <td>-0.30437</td>\n",
       "      <td>1.18060</td>\n",
       "      <td>9.3697</td>\n",
       "      <td>-0.471650</td>\n",
       "      <td>-2.05860</td>\n",
       "      <td>1.80370</td>\n",
       "      <td>2.4596</td>\n",
       "      <td>0.62884</td>\n",
       "      <td>0.60520</td>\n",
       "      <td>-1.21600</td>\n",
       "    </tr>\n",
       "    <tr>\n",
       "      <th>2</th>\n",
       "      <td>-0.65157</td>\n",
       "      <td>-3.46600</td>\n",
       "      <td>-2.9327</td>\n",
       "      <td>0.92949</td>\n",
       "      <td>-0.85274</td>\n",
       "      <td>2.5701</td>\n",
       "      <td>-0.33871</td>\n",
       "      <td>4.9387</td>\n",
       "      <td>2.74660</td>\n",
       "      <td>-1.571300</td>\n",
       "      <td>...</td>\n",
       "      <td>5.75520</td>\n",
       "      <td>-3.18780</td>\n",
       "      <td>5.9823</td>\n",
       "      <td>-0.057607</td>\n",
       "      <td>-1.67200</td>\n",
       "      <td>-1.08920</td>\n",
       "      <td>1.9342</td>\n",
       "      <td>0.38761</td>\n",
       "      <td>-0.16916</td>\n",
       "      <td>-0.50361</td>\n",
       "    </tr>\n",
       "    <tr>\n",
       "      <th>3</th>\n",
       "      <td>-1.86690</td>\n",
       "      <td>0.15505</td>\n",
       "      <td>0.9562</td>\n",
       "      <td>-1.45740</td>\n",
       "      <td>-3.04840</td>\n",
       "      <td>-1.6663</td>\n",
       "      <td>3.13450</td>\n",
       "      <td>9.4721</td>\n",
       "      <td>-0.82858</td>\n",
       "      <td>-2.294000</td>\n",
       "      <td>...</td>\n",
       "      <td>8.64410</td>\n",
       "      <td>2.63070</td>\n",
       "      <td>4.5789</td>\n",
       "      <td>-1.221200</td>\n",
       "      <td>-2.15350</td>\n",
       "      <td>0.16662</td>\n",
       "      <td>1.3194</td>\n",
       "      <td>0.62833</td>\n",
       "      <td>-0.92445</td>\n",
       "      <td>4.69580</td>\n",
       "    </tr>\n",
       "    <tr>\n",
       "      <th>4</th>\n",
       "      <td>2.82090</td>\n",
       "      <td>-0.89856</td>\n",
       "      <td>-1.4202</td>\n",
       "      <td>1.14850</td>\n",
       "      <td>-5.34180</td>\n",
       "      <td>1.6604</td>\n",
       "      <td>3.62530</td>\n",
       "      <td>2.5027</td>\n",
       "      <td>-0.83088</td>\n",
       "      <td>-0.528480</td>\n",
       "      <td>...</td>\n",
       "      <td>4.29710</td>\n",
       "      <td>0.07202</td>\n",
       "      <td>2.6959</td>\n",
       "      <td>0.587080</td>\n",
       "      <td>-4.73660</td>\n",
       "      <td>-0.63257</td>\n",
       "      <td>3.5219</td>\n",
       "      <td>1.66760</td>\n",
       "      <td>-2.96740</td>\n",
       "      <td>-0.96372</td>\n",
       "    </tr>\n",
       "  </tbody>\n",
       "</table>\n",
       "<p>5 rows × 28 columns</p>\n",
       "</div>"
      ],
      "text/plain": [
       "     41473    64697   91906    10222     7799   46736    23913   62659  \\\n",
       "0  3.39970 -1.24370 -1.1416  1.02480  2.52490 -1.7598  0.92899 -2.2413   \n",
       "1 -1.45120 -3.32370  1.6569  2.17590  0.91046 -2.2282  2.20200  3.0456   \n",
       "2 -0.65157 -3.46600 -2.9327  0.92949 -0.85274  2.5701 -0.33871  4.9387   \n",
       "3 -1.86690  0.15505  0.9562 -1.45740 -3.04840 -1.6663  3.13450  9.4721   \n",
       "4  2.82090 -0.89856 -1.4202  1.14850 -5.34180  1.6604  3.62530  2.5027   \n",
       "\n",
       "     34306      3778   ...       12040    14615   58386     83744    68616  \\\n",
       "0  1.52230 -1.423600   ...     5.32370  2.31570  3.8395  3.861800 -0.96804   \n",
       "1 -0.13857 -0.007663   ...    -0.30437  1.18060  9.3697 -0.471650 -2.05860   \n",
       "2  2.74660 -1.571300   ...     5.75520 -3.18780  5.9823 -0.057607 -1.67200   \n",
       "3 -0.82858 -2.294000   ...     8.64410  2.63070  4.5789 -1.221200 -2.15350   \n",
       "4 -0.83088 -0.528480   ...     4.29710  0.07202  2.6959  0.587080 -4.73660   \n",
       "\n",
       "      9263    8890    40924    20174    77252  \n",
       "0  3.79090  8.9279  1.60750  0.57323  0.90678  \n",
       "1  1.80370  2.4596  0.62884  0.60520 -1.21600  \n",
       "2 -1.08920  1.9342  0.38761 -0.16916 -0.50361  \n",
       "3  0.16662  1.3194  0.62833 -0.92445  4.69580  \n",
       "4 -0.63257  3.5219  1.66760 -2.96740 -0.96372  \n",
       "\n",
       "[5 rows x 28 columns]"
      ]
     },
     "execution_count": 41,
     "metadata": {},
     "output_type": "execute_result"
    }
   ],
   "source": [
    "df=pd.read_csv(\"new_fmri_data_featurereduction.csv\",index_col=False)\n",
    "df.head()"
   ]
  },
  {
   "cell_type": "code",
   "execution_count": 27,
   "metadata": {},
   "outputs": [],
   "source": [
    "#label=pd.read_csv(\"example1Blabels-04847.csv\",index_col=False)"
   ]
  },
  {
   "cell_type": "code",
   "execution_count": 34,
   "metadata": {},
   "outputs": [],
   "source": [
    "label=[1,1,1,1,1,1,1,1,1,1,1,1,1,1,1,1,1,1,1,1,1,1,1,1,1,2,2,2,2,2,2,2,2,2,2,2,2,2,2,2,2,2,2,2,2,2,2,2,2,2]"
   ]
  },
  {
   "cell_type": "code",
   "execution_count": 35,
   "metadata": {},
   "outputs": [],
   "source": [
    "##data= df.transpose()\n",
    "#data=data.transpose()\n",
    "#df['label']=label"
   ]
  },
  {
   "cell_type": "code",
   "execution_count": 47,
   "metadata": {},
   "outputs": [],
   "source": [
    "\n",
    "# split X and y into training and testing sets\n",
    "import sklearn\n",
    "from sklearn.linear_model import LogisticRegression\n",
    "from sklearn.model_selection import train_test_split\n",
    "X_train,X_test,y_train,y_test=train_test_split(df,label,test_size=0.20,random_state=0)\n"
   ]
  },
  {
   "cell_type": "code",
   "execution_count": 48,
   "metadata": {},
   "outputs": [
    {
     "name": "stderr",
     "output_type": "stream",
     "text": [
      "C:\\ProgramData\\Anaconda3\\lib\\site-packages\\sklearn\\linear_model\\logistic.py:433: FutureWarning: Default solver will be changed to 'lbfgs' in 0.22. Specify a solver to silence this warning.\n",
      "  FutureWarning)\n"
     ]
    }
   ],
   "source": [
    "# instantiate the model (using the default parameters)\n",
    "logreg = LogisticRegression()\n",
    "\n",
    "# fit the model with data\n",
    "logreg.fit(X_train,y_train)\n",
    "\n",
    "#\n",
    "y_pred=logreg.predict(X_test)"
   ]
  },
  {
   "cell_type": "code",
   "execution_count": 50,
   "metadata": {},
   "outputs": [
    {
     "data": {
      "text/plain": [
       "array([[4, 1],\n",
       "       [0, 5]], dtype=int64)"
      ]
     },
     "execution_count": 50,
     "metadata": {},
     "output_type": "execute_result"
    }
   ],
   "source": [
    "# import the metrics class\n",
    "from sklearn import metrics\n",
    "cnf_matrix = metrics.confusion_matrix(y_test, y_pred)\n",
    "cnf_matrix"
   ]
  },
  {
   "cell_type": "code",
   "execution_count": 51,
   "metadata": {},
   "outputs": [],
   "source": [
    "# import required modules\n",
    "import numpy as np\n",
    "import matplotlib.pyplot as plt\n",
    "import seaborn as sns\n",
    "%matplotlib inline"
   ]
  },
  {
   "cell_type": "code",
   "execution_count": 57,
   "metadata": {},
   "outputs": [
    {
     "data": {
      "text/plain": [
       "Text(0.5, 257.44, 'Predicted label')"
      ]
     },
     "execution_count": 57,
     "metadata": {},
     "output_type": "execute_result"
    },
    {
     "data": {
      "image/png": "[encoded data removed]",
      "text/plain": [
       "<Figure size 432x288 with 2 Axes>"
      ]
     },
     "metadata": {
      "needs_background": "light"
     },
     "output_type": "display_data"
    }
   ],
   "source": [
    "class_names=[1,2] # name  of classes\n",
    "fig, ax = plt.subplots()\n",
    "tick_marks = np.arange(len(class_names))\n",
    "plt.xticks(tick_marks, class_names)\n",
    "plt.yticks(tick_marks, class_names)\n",
    "# create heatmap\n",
    "sns.heatmap(pd.DataFrame(cnf_matrix), annot=True, cmap=\"YlGnBu\" ,fmt='g')\n",
    "ax.xaxis.set_label_position(\"top\")\n",
    "plt.tight_layout()\n",
    "plt.title('Confusion matrix', y=1.1)\n",
    "plt.ylabel('Actual label')\n",
    "plt.xlabel('Predicted label')"
   ]
  },
  {
   "cell_type": "code",
   "execution_count": 53,
   "metadata": {},
   "outputs": [
    {
     "name": "stdout",
     "output_type": "stream",
     "text": [
      "Accuracy: 0.9\n",
      "Precision: 1.0\n",
      "Recall: 0.8\n"
     ]
    }
   ],
   "source": [
    "print(\"Accuracy:\",metrics.accuracy_score(y_test, y_pred))\n",
    "print(\"Precision:\",metrics.precision_score(y_test, y_pred))\n",
    "print(\"Recall:\",metrics.recall_score(y_test, y_pred))"
   ]
  },
  {
   "cell_type": "code",
   "execution_count": null,
   "metadata": {},
   "outputs": [],
   "source": []
  },
  {
   "cell_type": "code",
   "execution_count": null,
   "metadata": {},
   "outputs": [],
   "source": []
  }
 ],
 "metadata": {
  "kernelspec": {
   "display_name": "Python 3",
   "language": "python",
   "name": "python3"
  },
  "language_info": {
   "codemirror_mode": {
    "name": "ipython",
    "version": 3
   },
   "file_extension": ".py",
   "mimetype": "text/x-python",
   "name": "python",
   "nbconvert_exporter": "python",
   "pygments_lexer": "ipython3",
   "version": "3.7.1"
  }
 },
 "nbformat": 4,
 "nbformat_minor": 2
}
